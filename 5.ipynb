{
  "cells": [
    {
      "cell_type": "code",
      "execution_count": null,
      "metadata": {
        "ExecuteTime": {
          "end_time": "2019-05-05T20:19:23.381452Z",
          "start_time": "2019-05-05T20:19:22.875162Z"
        },
        "id": "QqPqbCHbb5DP"
      },
      "outputs": [],
      "source": [
        "%matplotlib inline\n",
        "import matplotlib.pyplot as plt\n",
        "import numpy as np\n",
        "import torch\n",
        "import torchvision\n",
        "import torchvision.transforms as transforms\n",
        "import torch.nn as nn\n",
        "import torch.nn.functional as F\n",
        "import torch.optim as optim"
      ]
    },
    {
      "cell_type": "markdown",
      "metadata": {
        "ExecuteTime": {
          "end_time": "2019-05-05T19:49:54.053090Z",
          "start_time": "2019-05-05T19:49:43.413Z"
        },
        "id": "0F2q6kFyb5DR"
      },
      "source": [
        "#### Prepare for Dataset"
      ]
    },
    {
      "cell_type": "code",
      "execution_count": null,
      "metadata": {
        "ExecuteTime": {
          "end_time": "2019-05-05T20:19:24.679448Z",
          "start_time": "2019-05-05T20:19:23.383032Z"
        },
        "id": "WQMaO20fb5DS",
        "colab": {
          "base_uri": "https://localhost:8080/"
        },
        "outputId": "8c5f2914-fe36-4520-bad4-7a6b556c949b"
      },
      "outputs": [
        {
          "output_type": "stream",
          "name": "stderr",
          "text": [
            "100%|██████████| 170M/170M [00:02<00:00, 65.5MB/s]\n"
          ]
        }
      ],
      "source": [
        "transform = transforms.Compose(\n",
        "    [transforms.ToTensor(),\n",
        "     transforms.Normalize((0.5, 0.5, 0.5), (0.5, 0.5, 0.5))])\n",
        "\n",
        "trainset = torchvision.datasets.CIFAR10(root='./data', train=True,\n",
        "                                        download=True, transform=transform)\n",
        "trainloader = torch.utils.data.DataLoader(trainset, batch_size=4,\n",
        "                                          shuffle=True, num_workers=2)\n",
        "\n",
        "testset = torchvision.datasets.CIFAR10(root='./data', train=False,\n",
        "                                       download=True, transform=transform)\n",
        "testloader = torch.utils.data.DataLoader(testset, batch_size=4,\n",
        "                                         shuffle=False, num_workers=2)\n",
        "\n",
        "classes = ('plane', 'car', 'bird', 'cat',\n",
        "           'deer', 'dog', 'frog', 'horse', 'ship', 'truck')"
      ]
    },
    {
      "cell_type": "code",
      "execution_count": null,
      "metadata": {
        "ExecuteTime": {
          "end_time": "2019-05-05T20:19:24.830937Z",
          "start_time": "2019-05-05T20:19:24.681930Z"
        },
        "id": "fgit0Wlmb5DS",
        "colab": {
          "base_uri": "https://localhost:8080/",
          "height": 211
        },
        "outputId": "60d6ad6a-7abf-4ff6-9d6d-de06669d00cf"
      },
      "outputs": [
        {
          "output_type": "display_data",
          "data": {
            "text/plain": [
              "<Figure size 640x480 with 1 Axes>"
            ],
            "image/png": "[encoded data removed]"
          },
          "metadata": {}
        },
        {
          "output_type": "stream",
          "name": "stdout",
          "text": [
            "  car horse  frog   car\n"
          ]
        }
      ],
      "source": [
        "# The function to show an image.\n",
        "def imshow(img):\n",
        "    img = img / 2 + 0.5     # Unnormalize.\n",
        "    npimg = img.numpy()\n",
        "    plt.imshow(np.transpose(npimg, (1, 2, 0)))\n",
        "    plt.show()\n",
        "\n",
        "# Get some random training images.\n",
        "dataiter = iter(trainloader)\n",
        "images, labels = next(dataiter)\n",
        "# Show images.\n",
        "imshow(torchvision.utils.make_grid(images))\n",
        "# Print labels.\n",
        "print(' '.join('%5s' % classes[labels[j]] for j in range(4)))"
      ]
    },
    {
      "cell_type": "markdown",
      "metadata": {
        "id": "e9br-mqIb5DT"
      },
      "source": [
        "#### Choose a Device"
      ]
    },
    {
      "cell_type": "code",
      "execution_count": null,
      "metadata": {
        "ExecuteTime": {
          "end_time": "2019-05-05T20:19:26.653269Z",
          "start_time": "2019-05-05T20:19:24.834664Z"
        },
        "id": "0vZdb2hab5DU",
        "colab": {
          "base_uri": "https://localhost:8080/"
        },
        "outputId": "9573f993-b3c8-424c-b732-f4eced030d55"
      },
      "outputs": [
        {
          "output_type": "stream",
          "name": "stdout",
          "text": [
            "cpu\n"
          ]
        }
      ],
      "source": [
        "# If there are GPUs, choose the first one for computing. Otherwise use CPU.\n",
        "device = torch.device(\"cuda:0\" if torch.cuda.is_available() else \"cpu\")\n",
        "print(device)\n",
        "# If 'cuda:0' is printed, it means GPU is available."
      ]
    },
    {
      "cell_type": "markdown",
      "metadata": {
        "id": "1OacKZYJb5DU"
      },
      "source": [
        "#### Network Definition"
      ]
    },
    {
      "cell_type": "code",
      "execution_count": null,
      "metadata": {
        "ExecuteTime": {
          "end_time": "2019-05-05T20:19:28.825065Z",
          "start_time": "2019-05-05T20:19:26.656199Z"
        },
        "id": "oBHMGslfb5DU",
        "colab": {
          "base_uri": "https://localhost:8080/"
        },
        "outputId": "459b4efe-a524-498d-a10b-2d2df09709ed"
      },
      "outputs": [
        {
          "output_type": "execute_result",
          "data": {
            "text/plain": [
              "Net(\n",
              "  (flatten): Flatten(start_dim=1, end_dim=-1)\n",
              "  (conv1): Sequential(\n",
              "    (0): Conv2d(3, 64, kernel_size=(3, 3), stride=(1, 1), padding=(1, 1))\n",
              "    (1): ReLU()\n",
              "    (2): BatchNorm2d(64, eps=1e-05, momentum=0.1, affine=True, track_running_stats=True)\n",
              "    (3): MaxPool2d(kernel_size=3, stride=2, padding=0, dilation=1, ceil_mode=False)\n",
              "  )\n",
              "  (conv2): Sequential(\n",
              "    (0): Conv2d(64, 128, kernel_size=(3, 3), stride=(1, 1), padding=(1, 1))\n",
              "    (1): ReLU()\n",
              "    (2): BatchNorm2d(128, eps=1e-05, momentum=0.1, affine=True, track_running_stats=True)\n",
              "    (3): MaxPool2d(kernel_size=2, stride=2, padding=0, dilation=1, ceil_mode=False)\n",
              "  )\n",
              "  (conv3): Sequential(\n",
              "    (0): Conv2d(128, 256, kernel_size=(3, 3), stride=(1, 1), padding=(1, 1))\n",
              "    (1): ReLU()\n",
              "    (2): BatchNorm2d(256, eps=1e-05, momentum=0.1, affine=True, track_running_stats=True)\n",
              "    (3): MaxPool2d(kernel_size=2, stride=2, padding=0, dilation=1, ceil_mode=False)\n",
              "  )\n",
              "  (linear_relu_stack): Sequential(\n",
              "    (0): Linear(in_features=2304, out_features=512, bias=True)\n",
              "    (1): ReLU()\n",
              "    (2): Dropout(p=0.5, inplace=False)\n",
              "    (3): Linear(in_features=512, out_features=256, bias=True)\n",
              "    (4): ReLU()\n",
              "    (5): Dropout(p=0.5, inplace=False)\n",
              "    (6): Linear(in_features=256, out_features=10, bias=True)\n",
              "  )\n",
              ")"
            ]
          },
          "metadata": {},
          "execution_count": 5
        }
      ],
      "source": [
        "class Net(nn.Module):\n",
        "    def __init__(self):\n",
        "        super(Net, self).__init__()\n",
        "        ###### Fill the blank here ######\n",
        "        self.flatten = nn.Flatten()\n",
        "        self.conv1 = nn.Sequential(\n",
        "            nn.Conv2d(3, 64, kernel_size = 3, stride = 1, padding=1),\n",
        "            nn.ReLU(),\n",
        "            nn.BatchNorm2d(64),\n",
        "            #nn.Dropout2d(0.25),\n",
        "            nn.MaxPool2d(3, 2)\n",
        "        )\n",
        "\n",
        "        self.conv2 = nn.Sequential(\n",
        "            nn.Conv2d(64, 128, kernel_size = 3, stride = 1, padding=1),\n",
        "            nn.ReLU(),\n",
        "            nn.BatchNorm2d(128),\n",
        "            #nn.Dropout2d(0.25),\n",
        "            nn.MaxPool2d(2, 2)\n",
        "        )\n",
        "\n",
        "        self.conv3 = nn.Sequential(\n",
        "            nn.Conv2d(128, 256, kernel_size = 3, stride = 1, padding=1),\n",
        "            nn.ReLU(),\n",
        "            nn.BatchNorm2d(256),\n",
        "            #nn.Dropout2d(0.25),\n",
        "            nn.MaxPool2d(2, 2)\n",
        "        )\n",
        "\n",
        "\n",
        "        self.linear_relu_stack = nn.Sequential(\n",
        "            nn.Linear(256 * 3 * 3, 512),\n",
        "            nn.ReLU(),\n",
        "            nn.Dropout(0.5),\n",
        "            nn.Linear(512, 256),\n",
        "            nn.ReLU(),\n",
        "            nn.Dropout(0.5),\n",
        "            nn.Linear(256, 10)\n",
        "\n",
        "        )\n",
        "\n",
        "    def forward(self, x):\n",
        "        ###### Fill the blank here ######\n",
        "        x = self.conv1(x)\n",
        "        x = self.conv2(x)\n",
        "        x = self.conv3(x)\n",
        "        x = self.flatten(x)\n",
        "        logits = self.linear_relu_stack(x)\n",
        "        return logits\n",
        "\n",
        "net = Net()     # Create the network instance.\n",
        "net.to(device)  # Move the network parameters to the specified device."
      ]
    },
    {
      "cell_type": "markdown",
      "metadata": {
        "id": "3zzTTr0db5DV"
      },
      "source": [
        "#### Optimizer and Loss Function"
      ]
    },
    {
      "cell_type": "code",
      "execution_count": null,
      "metadata": {
        "ExecuteTime": {
          "end_time": "2019-05-05T20:19:28.829188Z",
          "start_time": "2019-05-05T20:19:28.826479Z"
        },
        "id": "Jn3EkgKtb5DV"
      },
      "outputs": [],
      "source": [
        "# We use cross-entropy as loss function.\n",
        "loss_func = nn.CrossEntropyLoss()\n",
        "\n",
        "opt = optim.SGD(net.parameters(), lr=0.001, momentum=0.9)"
      ]
    },
    {
      "cell_type": "markdown",
      "metadata": {
        "id": "KZC1ihijb5DV"
      },
      "source": [
        "#### Training Procedure"
      ]
    },
    {
      "cell_type": "code",
      "execution_count": null,
      "metadata": {
        "ExecuteTime": {
          "end_time": "2019-05-05T20:22:28.967647Z",
          "start_time": "2019-05-05T20:19:28.830370Z"
        },
        "id": "WkG6QJVHb5DW",
        "colab": {
          "base_uri": "https://localhost:8080/"
        },
        "outputId": "2eb1f6c3-e4d5-4026-a4de-2afe787f980a"
      },
      "outputs": [
        {
          "output_type": "stream",
          "name": "stdout",
          "text": [
            "[epoch: 0, i:   999] avg mini-batch loss: 2.003\n",
            "[epoch: 0, i:  1999] avg mini-batch loss: 1.784\n",
            "[epoch: 0, i:  2999] avg mini-batch loss: 1.715\n",
            "[epoch: 0, i:  3999] avg mini-batch loss: 1.641\n",
            "[epoch: 0, i:  4999] avg mini-batch loss: 1.591\n",
            "[epoch: 0, i:  5999] avg mini-batch loss: 1.479\n",
            "[epoch: 0, i:  6999] avg mini-batch loss: 1.488\n",
            "[epoch: 0, i:  7999] avg mini-batch loss: 1.453\n",
            "[epoch: 0, i:  8999] avg mini-batch loss: 1.449\n",
            "[epoch: 0, i:  9999] avg mini-batch loss: 1.361\n",
            "[epoch: 0, i: 10999] avg mini-batch loss: 1.392\n",
            "[epoch: 0, i: 11999] avg mini-batch loss: 1.313\n",
            "[epoch: 1, i:   999] avg mini-batch loss: 1.262\n",
            "[epoch: 1, i:  1999] avg mini-batch loss: 1.235\n",
            "[epoch: 1, i:  2999] avg mini-batch loss: 1.229\n",
            "[epoch: 1, i:  3999] avg mini-batch loss: 1.239\n",
            "[epoch: 1, i:  4999] avg mini-batch loss: 1.225\n",
            "[epoch: 1, i:  5999] avg mini-batch loss: 1.195\n",
            "[epoch: 1, i:  6999] avg mini-batch loss: 1.167\n",
            "[epoch: 1, i:  7999] avg mini-batch loss: 1.151\n",
            "[epoch: 1, i:  8999] avg mini-batch loss: 1.128\n",
            "[epoch: 1, i:  9999] avg mini-batch loss: 1.169\n",
            "[epoch: 1, i: 10999] avg mini-batch loss: 1.108\n",
            "[epoch: 1, i: 11999] avg mini-batch loss: 1.094\n",
            "[epoch: 2, i:   999] avg mini-batch loss: 1.078\n",
            "[epoch: 2, i:  1999] avg mini-batch loss: 1.027\n",
            "[epoch: 2, i:  2999] avg mini-batch loss: 1.028\n",
            "[epoch: 2, i:  3999] avg mini-batch loss: 0.997\n",
            "[epoch: 2, i:  4999] avg mini-batch loss: 1.045\n",
            "[epoch: 2, i:  5999] avg mini-batch loss: 1.004\n",
            "[epoch: 2, i:  6999] avg mini-batch loss: 0.987\n",
            "[epoch: 2, i:  7999] avg mini-batch loss: 1.026\n",
            "[epoch: 2, i:  8999] avg mini-batch loss: 0.991\n",
            "[epoch: 2, i:  9999] avg mini-batch loss: 0.992\n",
            "[epoch: 2, i: 10999] avg mini-batch loss: 0.985\n",
            "[epoch: 2, i: 11999] avg mini-batch loss: 0.990\n",
            "[epoch: 3, i:   999] avg mini-batch loss: 0.906\n",
            "[epoch: 3, i:  1999] avg mini-batch loss: 0.930\n",
            "[epoch: 3, i:  2999] avg mini-batch loss: 0.920\n",
            "[epoch: 3, i:  3999] avg mini-batch loss: 0.902\n",
            "[epoch: 3, i:  4999] avg mini-batch loss: 0.918\n",
            "[epoch: 3, i:  5999] avg mini-batch loss: 0.858\n",
            "[epoch: 3, i:  6999] avg mini-batch loss: 0.869\n",
            "[epoch: 3, i:  7999] avg mini-batch loss: 0.879\n",
            "[epoch: 3, i:  8999] avg mini-batch loss: 0.879\n",
            "[epoch: 3, i:  9999] avg mini-batch loss: 0.887\n",
            "[epoch: 3, i: 10999] avg mini-batch loss: 0.900\n",
            "[epoch: 3, i: 11999] avg mini-batch loss: 0.919\n",
            "[epoch: 4, i:   999] avg mini-batch loss: 0.803\n",
            "[epoch: 4, i:  1999] avg mini-batch loss: 0.819\n",
            "[epoch: 4, i:  2999] avg mini-batch loss: 0.801\n",
            "[epoch: 4, i:  3999] avg mini-batch loss: 0.809\n",
            "[epoch: 4, i:  4999] avg mini-batch loss: 0.774\n",
            "[epoch: 4, i:  5999] avg mini-batch loss: 0.828\n",
            "[epoch: 4, i:  6999] avg mini-batch loss: 0.812\n",
            "[epoch: 4, i:  7999] avg mini-batch loss: 0.816\n",
            "[epoch: 4, i:  8999] avg mini-batch loss: 0.894\n",
            "[epoch: 4, i:  9999] avg mini-batch loss: 0.839\n",
            "[epoch: 4, i: 10999] avg mini-batch loss: 0.840\n",
            "[epoch: 4, i: 11999] avg mini-batch loss: 0.835\n",
            "[epoch: 5, i:   999] avg mini-batch loss: 0.741\n",
            "[epoch: 5, i:  1999] avg mini-batch loss: 0.696\n",
            "[epoch: 5, i:  2999] avg mini-batch loss: 0.763\n",
            "[epoch: 5, i:  3999] avg mini-batch loss: 0.736\n",
            "[epoch: 5, i:  4999] avg mini-batch loss: 0.768\n",
            "[epoch: 5, i:  5999] avg mini-batch loss: 0.766\n",
            "[epoch: 5, i:  6999] avg mini-batch loss: 0.767\n",
            "[epoch: 5, i:  7999] avg mini-batch loss: 0.749\n",
            "[epoch: 5, i:  8999] avg mini-batch loss: 0.745\n",
            "[epoch: 5, i:  9999] avg mini-batch loss: 0.766\n",
            "[epoch: 5, i: 10999] avg mini-batch loss: 0.738\n",
            "[epoch: 5, i: 11999] avg mini-batch loss: 0.739\n",
            "[epoch: 6, i:   999] avg mini-batch loss: 0.634\n",
            "[epoch: 6, i:  1999] avg mini-batch loss: 0.632\n",
            "[epoch: 6, i:  2999] avg mini-batch loss: 0.663\n",
            "[epoch: 6, i:  3999] avg mini-batch loss: 0.668\n",
            "[epoch: 6, i:  4999] avg mini-batch loss: 0.674\n",
            "[epoch: 6, i:  5999] avg mini-batch loss: 0.657\n",
            "[epoch: 6, i:  6999] avg mini-batch loss: 0.670\n",
            "[epoch: 6, i:  7999] avg mini-batch loss: 0.705\n",
            "[epoch: 6, i:  8999] avg mini-batch loss: 0.676\n",
            "[epoch: 6, i:  9999] avg mini-batch loss: 0.689\n",
            "[epoch: 6, i: 10999] avg mini-batch loss: 0.674\n",
            "[epoch: 6, i: 11999] avg mini-batch loss: 0.666\n",
            "[epoch: 7, i:   999] avg mini-batch loss: 0.596\n",
            "[epoch: 7, i:  1999] avg mini-batch loss: 0.556\n",
            "[epoch: 7, i:  2999] avg mini-batch loss: 0.601\n",
            "[epoch: 7, i:  3999] avg mini-batch loss: 0.608\n",
            "[epoch: 7, i:  4999] avg mini-batch loss: 0.592\n",
            "[epoch: 7, i:  5999] avg mini-batch loss: 0.574\n",
            "[epoch: 7, i:  6999] avg mini-batch loss: 0.594\n",
            "[epoch: 7, i:  7999] avg mini-batch loss: 0.618\n",
            "[epoch: 7, i:  8999] avg mini-batch loss: 0.651\n",
            "[epoch: 7, i:  9999] avg mini-batch loss: 0.609\n",
            "[epoch: 7, i: 10999] avg mini-batch loss: 0.619\n",
            "[epoch: 7, i: 11999] avg mini-batch loss: 0.600\n",
            "[epoch: 8, i:   999] avg mini-batch loss: 0.516\n",
            "[epoch: 8, i:  1999] avg mini-batch loss: 0.530\n",
            "[epoch: 8, i:  2999] avg mini-batch loss: 0.535\n",
            "[epoch: 8, i:  3999] avg mini-batch loss: 0.534\n",
            "[epoch: 8, i:  4999] avg mini-batch loss: 0.527\n",
            "[epoch: 8, i:  5999] avg mini-batch loss: 0.543\n",
            "[epoch: 8, i:  6999] avg mini-batch loss: 0.541\n",
            "[epoch: 8, i:  7999] avg mini-batch loss: 0.575\n",
            "[epoch: 8, i:  8999] avg mini-batch loss: 0.563\n",
            "[epoch: 8, i:  9999] avg mini-batch loss: 0.538\n",
            "[epoch: 8, i: 10999] avg mini-batch loss: 0.561\n",
            "[epoch: 8, i: 11999] avg mini-batch loss: 0.564\n",
            "[epoch: 9, i:   999] avg mini-batch loss: 0.452\n",
            "[epoch: 9, i:  1999] avg mini-batch loss: 0.476\n",
            "[epoch: 9, i:  2999] avg mini-batch loss: 0.476\n",
            "[epoch: 9, i:  3999] avg mini-batch loss: 0.531\n",
            "[epoch: 9, i:  4999] avg mini-batch loss: 0.514\n",
            "[epoch: 9, i:  5999] avg mini-batch loss: 0.505\n",
            "[epoch: 9, i:  6999] avg mini-batch loss: 0.504\n",
            "[epoch: 9, i:  7999] avg mini-batch loss: 0.493\n",
            "[epoch: 9, i:  8999] avg mini-batch loss: 0.543\n",
            "[epoch: 9, i:  9999] avg mini-batch loss: 0.508\n",
            "[epoch: 9, i: 10999] avg mini-batch loss: 0.542\n",
            "[epoch: 9, i: 11999] avg mini-batch loss: 0.524\n",
            "Finished Training.\n"
          ]
        }
      ],
      "source": [
        "avg_losses = []   # Avg. losses.\n",
        "epochs = 10       # Total epochs.\n",
        "print_freq = 1000  # Print frequency.\n",
        "\n",
        "for epoch in range(epochs):  # Loop over the dataset multiple times.\n",
        "    running_loss = 0.0       # Initialize running loss.\n",
        "    for i, data in enumerate(trainloader, 0):\n",
        "        # Get the inputs.\n",
        "        inputs, labels = data\n",
        "\n",
        "        # Move the inputs to the specified device.\n",
        "        inputs, labels = inputs.to(device), labels.to(device)\n",
        "\n",
        "        # Zero the parameter gradients.\n",
        "        opt.zero_grad()\n",
        "\n",
        "        # Forward step.\n",
        "        outputs = net(inputs)\n",
        "        loss = loss_func(outputs, labels)\n",
        "\n",
        "        # Backward step.\n",
        "        loss.backward()\n",
        "\n",
        "        # Optimization step (update the parameters).\n",
        "        opt.step()\n",
        "\n",
        "        # Print statistics.\n",
        "        running_loss += loss.item()\n",
        "        if i % print_freq == print_freq - 1: # Print every several mini-batches.\n",
        "            avg_loss = running_loss / print_freq\n",
        "            print('[epoch: {}, i: {:5d}] avg mini-batch loss: {:.3f}'.format(\n",
        "                epoch, i, avg_loss))\n",
        "            avg_losses.append(avg_loss)\n",
        "            running_loss = 0.0\n",
        "\n",
        "print('Finished Training.')"
      ]
    },
    {
      "cell_type": "markdown",
      "metadata": {
        "id": "x8kDBtyeb5DW"
      },
      "source": [
        "#### Training Loss Curve"
      ]
    },
    {
      "cell_type": "code",
      "execution_count": null,
      "metadata": {
        "ExecuteTime": {
          "end_time": "2019-05-05T20:22:29.127185Z",
          "start_time": "2019-05-05T20:22:28.969956Z"
        },
        "id": "SQ4Z46pqb5DW",
        "colab": {
          "base_uri": "https://localhost:8080/",
          "height": 449
        },
        "outputId": "96c82508-6d97-43f6-aad7-22ab3ccff143"
      },
      "outputs": [
        {
          "output_type": "display_data",
          "data": {
            "text/plain": [
              "<Figure size 640x480 with 1 Axes>"
            ],
            "image/png": "[encoded data removed]"
          },
          "metadata": {}
        }
      ],
      "source": [
        "plt.plot(avg_losses)\n",
        "plt.xlabel('mini-batch index / {}'.format(print_freq))\n",
        "plt.ylabel('avg. mini-batch loss')\n",
        "plt.show()"
      ]
    },
    {
      "cell_type": "markdown",
      "metadata": {
        "id": "HGDWLQQfb5DW"
      },
      "source": [
        "#### Evaluate on Test Dataset"
      ]
    },
    {
      "cell_type": "code",
      "execution_count": null,
      "metadata": {
        "ExecuteTime": {
          "end_time": "2019-05-05T20:22:29.310170Z",
          "start_time": "2019-05-05T20:22:29.130022Z"
        },
        "id": "MR9VLjW7b5DW",
        "colab": {
          "base_uri": "https://localhost:8080/",
          "height": 229
        },
        "outputId": "85518967-0a5a-44f7-86a4-5c4932e28dfb"
      },
      "outputs": [
        {
          "output_type": "display_data",
          "data": {
            "text/plain": [
              "<Figure size 640x480 with 1 Axes>"
            ],
            "image/png": "[encoded data removed]"
          },
          "metadata": {}
        },
        {
          "output_type": "stream",
          "name": "stdout",
          "text": [
            "GroundTruth:    cat  ship  ship plane\n",
            "Predicted:    cat  ship plane plane\n"
          ]
        }
      ],
      "source": [
        "# Check several images.\n",
        "dataiter = iter(testloader)\n",
        "images, labels = next(dataiter)\n",
        "imshow(torchvision.utils.make_grid(images))\n",
        "print('GroundTruth: ', ' '.join('%5s' % classes[labels[j]] for j in range(4)))\n",
        "outputs = net(images.to(device))\n",
        "_, predicted = torch.max(outputs, 1)\n",
        "\n",
        "print('Predicted: ', ' '.join('%5s' % classes[predicted[j]]\n",
        "                              for j in range(4)))"
      ]
    },
    {
      "cell_type": "code",
      "execution_count": null,
      "metadata": {
        "ExecuteTime": {
          "end_time": "2019-05-05T20:22:32.491868Z",
          "start_time": "2019-05-05T20:22:29.312667Z"
        },
        "id": "hCybLNlLb5DX",
        "colab": {
          "base_uri": "https://localhost:8080/"
        },
        "outputId": "37b3510d-f225-46b3-e3d6-2d38f9c309d5"
      },
      "outputs": [
        {
          "output_type": "stream",
          "name": "stdout",
          "text": [
            "Accuracy of the network on the 10000 test images: 75 %\n"
          ]
        }
      ],
      "source": [
        "# Get test accuracy.\n",
        "correct = 0\n",
        "total = 0\n",
        "with torch.no_grad():\n",
        "    for data in testloader:\n",
        "        images, labels = data\n",
        "        images, labels = images.to(device), labels.to(device)\n",
        "        outputs = net(images)\n",
        "        _, predicted = torch.max(outputs.data, 1)\n",
        "        total += labels.size(0)\n",
        "        correct += (predicted == labels).sum().item()\n",
        "\n",
        "print('Accuracy of the network on the 10000 test images: %d %%' % (\n",
        "    100 * correct / total))"
      ]
    },
    {
      "cell_type": "code",
      "execution_count": null,
      "metadata": {
        "ExecuteTime": {
          "end_time": "2019-05-05T20:27:33.876489Z",
          "start_time": "2019-05-05T20:27:30.065087Z"
        },
        "id": "MUQMsl_fb5DX",
        "colab": {
          "base_uri": "https://localhost:8080/"
        },
        "outputId": "ebdb118d-f350-48aa-f737-c4fb1421f70f"
      },
      "outputs": [
        {
          "output_type": "stream",
          "name": "stdout",
          "text": [
            "Accuracy of plane : 74 %\n",
            "Accuracy of   car : 87 %\n",
            "Accuracy of  bird : 65 %\n",
            "Accuracy of   cat : 62 %\n",
            "Accuracy of  deer : 72 %\n",
            "Accuracy of   dog : 55 %\n",
            "Accuracy of  frog : 80 %\n",
            "Accuracy of horse : 74 %\n",
            "Accuracy of  ship : 87 %\n",
            "Accuracy of truck : 85 %\n"
          ]
        }
      ],
      "source": [
        "# Get test accuracy for each class.\n",
        "class_correct = list(0. for i in range(10))\n",
        "class_total = list(0. for i in range(10))\n",
        "with torch.no_grad():\n",
        "    for data in testloader:\n",
        "        images, labels = data\n",
        "        images, labels = images.to(device), labels.to(device)\n",
        "        outputs = net(images)\n",
        "        _, predicted = torch.max(outputs, 1)\n",
        "        c = (predicted == labels).squeeze()\n",
        "        for i in range(4):\n",
        "            label = labels[i]\n",
        "            class_correct[label] += c[i].item()\n",
        "            class_total[label] += 1\n",
        "\n",
        "for i in range(10):\n",
        "    print('Accuracy of %5s : %2d %%' % (\n",
        "        classes[i], 100 * class_correct[i] / class_total[i]))"
      ]
    },
    {
      "cell_type": "code",
      "execution_count": null,
      "metadata": {
        "id": "hjjQfShPb5DX"
      },
      "outputs": [],
      "source": []
    }
  ],
  "metadata": {
    "kernelspec": {
      "display_name": "Python 3",
      "name": "python3"
    },
    "language_info": {
      "codemirror_mode": {
        "name": "ipython",
        "version": 3
      },
      "file_extension": ".py",
      "mimetype": "text/x-python",
      "name": "python",
      "nbconvert_exporter": "python",
      "pygments_lexer": "ipython3",
      "version": "3.11.9"
    },
    "toc": {
      "base_numbering": 1,
      "nav_menu": {},
      "number_sections": true,
      "sideBar": true,
      "skip_h1_title": false,
      "title_cell": "Table of Contents",
      "title_sidebar": "Contents",
      "toc_cell": false,
      "toc_position": {},
      "toc_section_display": true,
      "toc_window_display": false
    },
    "colab": {
      "provenance": []
    }
  },
  "nbformat": 4,
  "nbformat_minor": 0
}