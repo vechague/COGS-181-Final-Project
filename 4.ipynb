{
  "cells": [
    {
      "cell_type": "code",
      "execution_count": null,
      "metadata": {
        "ExecuteTime": {
          "end_time": "2019-05-05T20:19:23.381452Z",
          "start_time": "2019-05-05T20:19:22.875162Z"
        },
        "id": "QqPqbCHbb5DP"
      },
      "outputs": [],
      "source": [
        "%matplotlib inline\n",
        "import matplotlib.pyplot as plt\n",
        "import numpy as np\n",
        "import torch\n",
        "import torchvision\n",
        "import torchvision.transforms as transforms\n",
        "import torch.nn as nn\n",
        "import torch.nn.functional as F\n",
        "import torch.optim as optim"
      ]
    },
    {
      "cell_type": "markdown",
      "metadata": {
        "ExecuteTime": {
          "end_time": "2019-05-05T19:49:54.053090Z",
          "start_time": "2019-05-05T19:49:43.413Z"
        },
        "id": "0F2q6kFyb5DR"
      },
      "source": [
        "#### Prepare for Dataset"
      ]
    },
    {
      "cell_type": "code",
      "execution_count": null,
      "metadata": {
        "ExecuteTime": {
          "end_time": "2019-05-05T20:19:24.679448Z",
          "start_time": "2019-05-05T20:19:23.383032Z"
        },
        "id": "WQMaO20fb5DS"
      },
      "outputs": [],
      "source": [
        "transform = transforms.Compose(\n",
        "    [transforms.ToTensor(),\n",
        "     transforms.Normalize((0.5, 0.5, 0.5), (0.5, 0.5, 0.5))])\n",
        "\n",
        "trainset = torchvision.datasets.CIFAR10(root='./data', train=True,\n",
        "                                        download=True, transform=transform)\n",
        "trainloader = torch.utils.data.DataLoader(trainset, batch_size=4,\n",
        "                                          shuffle=True, num_workers=2)\n",
        "\n",
        "testset = torchvision.datasets.CIFAR10(root='./data', train=False,\n",
        "                                       download=True, transform=transform)\n",
        "testloader = torch.utils.data.DataLoader(testset, batch_size=4,\n",
        "                                         shuffle=False, num_workers=2)\n",
        "\n",
        "classes = ('plane', 'car', 'bird', 'cat',\n",
        "           'deer', 'dog', 'frog', 'horse', 'ship', 'truck')"
      ]
    },
    {
      "cell_type": "code",
      "execution_count": null,
      "metadata": {
        "ExecuteTime": {
          "end_time": "2019-05-05T20:19:24.830937Z",
          "start_time": "2019-05-05T20:19:24.681930Z"
        },
        "id": "fgit0Wlmb5DS",
        "colab": {
          "base_uri": "https://localhost:8080/",
          "height": 210
        },
        "outputId": "cd912ad6-1d84-4b12-ec0b-8f4014d0af19"
      },
      "outputs": [
        {
          "output_type": "display_data",
          "data": {
            "text/plain": [
              "<Figure size 640x480 with 1 Axes>"
            ],
            "image/png": "[encoded data removed]"
          },
          "metadata": {}
        },
        {
          "output_type": "stream",
          "name": "stdout",
          "text": [
            "  cat   cat  ship  deer\n"
          ]
        }
      ],
      "source": [
        "# The function to show an image.\n",
        "def imshow(img):\n",
        "    img = img / 2 + 0.5     # Unnormalize.\n",
        "    npimg = img.numpy()\n",
        "    plt.imshow(np.transpose(npimg, (1, 2, 0)))\n",
        "    plt.show()\n",
        "\n",
        "# Get some random training images.\n",
        "dataiter = iter(trainloader)\n",
        "images, labels = next(dataiter)\n",
        "# Show images.\n",
        "imshow(torchvision.utils.make_grid(images))\n",
        "# Print labels.\n",
        "print(' '.join('%5s' % classes[labels[j]] for j in range(4)))"
      ]
    },
    {
      "cell_type": "markdown",
      "metadata": {
        "id": "e9br-mqIb5DT"
      },
      "source": [
        "#### Choose a Device"
      ]
    },
    {
      "cell_type": "code",
      "execution_count": null,
      "metadata": {
        "ExecuteTime": {
          "end_time": "2019-05-05T20:19:26.653269Z",
          "start_time": "2019-05-05T20:19:24.834664Z"
        },
        "id": "0vZdb2hab5DU",
        "colab": {
          "base_uri": "https://localhost:8080/"
        },
        "outputId": "573a54cc-306d-4fbe-97fa-e345d5125375"
      },
      "outputs": [
        {
          "output_type": "stream",
          "name": "stdout",
          "text": [
            "cpu\n"
          ]
        }
      ],
      "source": [
        "# If there are GPUs, choose the first one for computing. Otherwise use CPU.\n",
        "device = torch.device(\"cuda:0\" if torch.cuda.is_available() else \"cpu\")\n",
        "print(device)\n",
        "# If 'cuda:0' is printed, it means GPU is available."
      ]
    },
    {
      "cell_type": "markdown",
      "metadata": {
        "id": "1OacKZYJb5DU"
      },
      "source": [
        "#### Network Definition"
      ]
    },
    {
      "cell_type": "code",
      "execution_count": null,
      "metadata": {
        "ExecuteTime": {
          "end_time": "2019-05-05T20:19:28.825065Z",
          "start_time": "2019-05-05T20:19:26.656199Z"
        },
        "id": "oBHMGslfb5DU",
        "colab": {
          "base_uri": "https://localhost:8080/"
        },
        "outputId": "b9d4ed72-24f8-4dc6-a5dd-20b4eb95df03"
      },
      "outputs": [
        {
          "output_type": "execute_result",
          "data": {
            "text/plain": [
              "Net(\n",
              "  (flatten): Flatten(start_dim=1, end_dim=-1)\n",
              "  (conv1): Sequential(\n",
              "    (0): Conv2d(3, 64, kernel_size=(5, 5), stride=(1, 1), padding=(1, 1))\n",
              "    (1): ReLU()\n",
              "    (2): BatchNorm2d(64, eps=1e-05, momentum=0.1, affine=True, track_running_stats=True)\n",
              "    (3): MaxPool2d(kernel_size=3, stride=2, padding=0, dilation=1, ceil_mode=False)\n",
              "  )\n",
              "  (conv2): Sequential(\n",
              "    (0): Conv2d(64, 128, kernel_size=(5, 5), stride=(1, 1), padding=(1, 1))\n",
              "    (1): ReLU()\n",
              "    (2): BatchNorm2d(128, eps=1e-05, momentum=0.1, affine=True, track_running_stats=True)\n",
              "    (3): MaxPool2d(kernel_size=2, stride=2, padding=0, dilation=1, ceil_mode=False)\n",
              "  )\n",
              "  (conv3): Sequential(\n",
              "    (0): Conv2d(128, 256, kernel_size=(3, 3), stride=(1, 1), padding=(1, 1))\n",
              "    (1): ReLU()\n",
              "    (2): BatchNorm2d(256, eps=1e-05, momentum=0.1, affine=True, track_running_stats=True)\n",
              "    (3): MaxPool2d(kernel_size=2, stride=2, padding=0, dilation=1, ceil_mode=False)\n",
              "  )\n",
              "  (linear_relu_stack): Sequential(\n",
              "    (0): Linear(in_features=2304, out_features=512, bias=True)\n",
              "    (1): ReLU()\n",
              "    (2): Dropout(p=0.5, inplace=False)\n",
              "    (3): Linear(in_features=512, out_features=256, bias=True)\n",
              "    (4): ReLU()\n",
              "    (5): Dropout(p=0.5, inplace=False)\n",
              "    (6): Linear(in_features=256, out_features=10, bias=True)\n",
              "  )\n",
              ")"
            ]
          },
          "metadata": {},
          "execution_count": 5
        }
      ],
      "source": [
        "class Net(nn.Module):\n",
        "    def __init__(self):\n",
        "        super(Net, self).__init__()\n",
        "        ###### Fill the blank here ######\n",
        "        self.flatten = nn.Flatten()\n",
        "        self.conv1 = nn.Sequential(\n",
        "            nn.Conv2d(3, 64, kernel_size = 5, stride = 1, padding=1),\n",
        "            nn.ReLU(),\n",
        "            nn.BatchNorm2d(64),\n",
        "            #nn.Dropout2d(0.25),\n",
        "            nn.MaxPool2d(3, 2)\n",
        "        )\n",
        "\n",
        "        self.conv2 = nn.Sequential(\n",
        "            nn.Conv2d(64, 128, kernel_size = 5, stride = 1, padding=1),\n",
        "            nn.ReLU(),\n",
        "            nn.BatchNorm2d(128),\n",
        "            #nn.Dropout2d(0.25),\n",
        "            nn.MaxPool2d(2, 2)\n",
        "        )\n",
        "\n",
        "        self.conv3 = nn.Sequential(\n",
        "            nn.Conv2d(128, 256, kernel_size = 3, stride = 1, padding=1),\n",
        "            nn.ReLU(),\n",
        "            nn.BatchNorm2d(256),\n",
        "            #nn.Dropout2d(0.25),\n",
        "            nn.MaxPool2d(2, 2)\n",
        "        )\n",
        "\n",
        "\n",
        "        self.linear_relu_stack = nn.Sequential(\n",
        "            nn.Linear(256 * 3 * 3, 512),\n",
        "            nn.ReLU(),\n",
        "            nn.Dropout(0.5),\n",
        "            nn.Linear(512, 256),\n",
        "            nn.ReLU(),\n",
        "            nn.Dropout(0.5),\n",
        "            nn.Linear(256, 10)\n",
        "\n",
        "        )\n",
        "\n",
        "    def forward(self, x):\n",
        "        ###### Fill the blank here ######\n",
        "        x = self.conv1(x)\n",
        "        x = self.conv2(x)\n",
        "        x = self.conv3(x)\n",
        "        x = self.flatten(x)\n",
        "        logits = self.linear_relu_stack(x)\n",
        "        return logits\n",
        "\n",
        "net = Net()     # Create the network instance.\n",
        "net.to(device)  # Move the network parameters to the specified device."
      ]
    },
    {
      "cell_type": "markdown",
      "metadata": {
        "id": "3zzTTr0db5DV"
      },
      "source": [
        "#### Optimizer and Loss Function"
      ]
    },
    {
      "cell_type": "code",
      "execution_count": null,
      "metadata": {
        "ExecuteTime": {
          "end_time": "2019-05-05T20:19:28.829188Z",
          "start_time": "2019-05-05T20:19:28.826479Z"
        },
        "id": "Jn3EkgKtb5DV"
      },
      "outputs": [],
      "source": [
        "# We use cross-entropy as loss function.\n",
        "loss_func = nn.CrossEntropyLoss()\n",
        "\n",
        "opt = optim.SGD(net.parameters(), lr=0.001, momentum=0.9)"
      ]
    },
    {
      "cell_type": "markdown",
      "metadata": {
        "id": "KZC1ihijb5DV"
      },
      "source": [
        "#### Training Procedure"
      ]
    },
    {
      "cell_type": "code",
      "execution_count": null,
      "metadata": {
        "ExecuteTime": {
          "end_time": "2019-05-05T20:22:28.967647Z",
          "start_time": "2019-05-05T20:19:28.830370Z"
        },
        "id": "WkG6QJVHb5DW",
        "colab": {
          "base_uri": "https://localhost:8080/"
        },
        "outputId": "ccda141b-1cb3-4e4e-ea48-09c0b2a19b56"
      },
      "outputs": [
        {
          "output_type": "stream",
          "name": "stdout",
          "text": [
            "[epoch: 0, i:   999] avg mini-batch loss: 2.026\n",
            "[epoch: 0, i:  1999] avg mini-batch loss: 1.852\n",
            "[epoch: 0, i:  2999] avg mini-batch loss: 1.720\n",
            "[epoch: 0, i:  3999] avg mini-batch loss: 1.740\n",
            "[epoch: 0, i:  4999] avg mini-batch loss: 1.635\n",
            "[epoch: 0, i:  5999] avg mini-batch loss: 1.582\n",
            "[epoch: 0, i:  6999] avg mini-batch loss: 1.552\n",
            "[epoch: 0, i:  7999] avg mini-batch loss: 1.481\n",
            "[epoch: 0, i:  8999] avg mini-batch loss: 1.474\n",
            "[epoch: 0, i:  9999] avg mini-batch loss: 1.433\n",
            "[epoch: 0, i: 10999] avg mini-batch loss: 1.438\n",
            "[epoch: 0, i: 11999] avg mini-batch loss: 1.423\n",
            "[epoch: 1, i:   999] avg mini-batch loss: 1.356\n",
            "[epoch: 1, i:  1999] avg mini-batch loss: 1.297\n",
            "[epoch: 1, i:  2999] avg mini-batch loss: 1.324\n",
            "[epoch: 1, i:  3999] avg mini-batch loss: 1.310\n",
            "[epoch: 1, i:  4999] avg mini-batch loss: 1.259\n",
            "[epoch: 1, i:  5999] avg mini-batch loss: 1.277\n",
            "[epoch: 1, i:  6999] avg mini-batch loss: 1.231\n",
            "[epoch: 1, i:  7999] avg mini-batch loss: 1.214\n",
            "[epoch: 1, i:  8999] avg mini-batch loss: 1.225\n",
            "[epoch: 1, i:  9999] avg mini-batch loss: 1.209\n",
            "[epoch: 1, i: 10999] avg mini-batch loss: 1.217\n",
            "[epoch: 1, i: 11999] avg mini-batch loss: 1.163\n",
            "[epoch: 2, i:   999] avg mini-batch loss: 1.164\n",
            "[epoch: 2, i:  1999] avg mini-batch loss: 1.126\n",
            "[epoch: 2, i:  2999] avg mini-batch loss: 1.114\n",
            "[epoch: 2, i:  3999] avg mini-batch loss: 1.096\n",
            "[epoch: 2, i:  4999] avg mini-batch loss: 1.082\n",
            "[epoch: 2, i:  5999] avg mini-batch loss: 1.085\n",
            "[epoch: 2, i:  6999] avg mini-batch loss: 1.084\n",
            "[epoch: 2, i:  7999] avg mini-batch loss: 1.072\n",
            "[epoch: 2, i:  8999] avg mini-batch loss: 1.076\n",
            "[epoch: 2, i:  9999] avg mini-batch loss: 1.070\n",
            "[epoch: 2, i: 10999] avg mini-batch loss: 1.073\n",
            "[epoch: 2, i: 11999] avg mini-batch loss: 1.054\n",
            "[epoch: 3, i:   999] avg mini-batch loss: 1.011\n",
            "[epoch: 3, i:  1999] avg mini-batch loss: 0.991\n",
            "[epoch: 3, i:  2999] avg mini-batch loss: 1.012\n",
            "[epoch: 3, i:  3999] avg mini-batch loss: 1.032\n",
            "[epoch: 3, i:  4999] avg mini-batch loss: 0.992\n",
            "[epoch: 3, i:  5999] avg mini-batch loss: 1.000\n",
            "[epoch: 3, i:  6999] avg mini-batch loss: 0.970\n",
            "[epoch: 3, i:  7999] avg mini-batch loss: 0.979\n",
            "[epoch: 3, i:  8999] avg mini-batch loss: 0.985\n",
            "[epoch: 3, i:  9999] avg mini-batch loss: 0.988\n",
            "[epoch: 3, i: 10999] avg mini-batch loss: 1.010\n",
            "[epoch: 3, i: 11999] avg mini-batch loss: 0.995\n",
            "[epoch: 4, i:   999] avg mini-batch loss: 0.892\n",
            "[epoch: 4, i:  1999] avg mini-batch loss: 0.918\n",
            "[epoch: 4, i:  2999] avg mini-batch loss: 0.907\n",
            "[epoch: 4, i:  3999] avg mini-batch loss: 0.883\n",
            "[epoch: 4, i:  4999] avg mini-batch loss: 0.909\n",
            "[epoch: 4, i:  5999] avg mini-batch loss: 0.935\n",
            "[epoch: 4, i:  6999] avg mini-batch loss: 0.887\n",
            "[epoch: 4, i:  7999] avg mini-batch loss: 0.923\n",
            "[epoch: 4, i:  8999] avg mini-batch loss: 0.926\n",
            "[epoch: 4, i:  9999] avg mini-batch loss: 0.934\n",
            "[epoch: 4, i: 10999] avg mini-batch loss: 0.886\n",
            "[epoch: 4, i: 11999] avg mini-batch loss: 0.871\n",
            "[epoch: 5, i:   999] avg mini-batch loss: 0.785\n",
            "[epoch: 5, i:  1999] avg mini-batch loss: 0.810\n",
            "[epoch: 5, i:  2999] avg mini-batch loss: 0.803\n",
            "[epoch: 5, i:  3999] avg mini-batch loss: 0.852\n",
            "[epoch: 5, i:  4999] avg mini-batch loss: 0.859\n",
            "[epoch: 5, i:  5999] avg mini-batch loss: 0.817\n",
            "[epoch: 5, i:  6999] avg mini-batch loss: 0.859\n",
            "[epoch: 5, i:  7999] avg mini-batch loss: 0.898\n",
            "[epoch: 5, i:  8999] avg mini-batch loss: 0.840\n",
            "[epoch: 5, i:  9999] avg mini-batch loss: 0.819\n",
            "[epoch: 5, i: 10999] avg mini-batch loss: 0.839\n",
            "[epoch: 5, i: 11999] avg mini-batch loss: 0.829\n",
            "[epoch: 6, i:   999] avg mini-batch loss: 0.766\n",
            "[epoch: 6, i:  1999] avg mini-batch loss: 0.734\n",
            "[epoch: 6, i:  2999] avg mini-batch loss: 0.744\n",
            "[epoch: 6, i:  3999] avg mini-batch loss: 0.775\n",
            "[epoch: 6, i:  4999] avg mini-batch loss: 0.778\n",
            "[epoch: 6, i:  5999] avg mini-batch loss: 0.747\n",
            "[epoch: 6, i:  6999] avg mini-batch loss: 0.831\n",
            "[epoch: 6, i:  7999] avg mini-batch loss: 0.755\n",
            "[epoch: 6, i:  8999] avg mini-batch loss: 0.775\n",
            "[epoch: 6, i:  9999] avg mini-batch loss: 0.775\n",
            "[epoch: 6, i: 10999] avg mini-batch loss: 0.797\n",
            "[epoch: 6, i: 11999] avg mini-batch loss: 0.765\n",
            "[epoch: 7, i:   999] avg mini-batch loss: 0.678\n",
            "[epoch: 7, i:  1999] avg mini-batch loss: 0.720\n",
            "[epoch: 7, i:  2999] avg mini-batch loss: 0.690\n",
            "[epoch: 7, i:  3999] avg mini-batch loss: 0.752\n",
            "[epoch: 7, i:  4999] avg mini-batch loss: 0.699\n",
            "[epoch: 7, i:  5999] avg mini-batch loss: 0.687\n",
            "[epoch: 7, i:  6999] avg mini-batch loss: 0.745\n",
            "[epoch: 7, i:  7999] avg mini-batch loss: 0.718\n",
            "[epoch: 7, i:  8999] avg mini-batch loss: 0.705\n",
            "[epoch: 7, i:  9999] avg mini-batch loss: 0.695\n",
            "[epoch: 7, i: 10999] avg mini-batch loss: 0.721\n",
            "[epoch: 7, i: 11999] avg mini-batch loss: 0.702\n",
            "[epoch: 8, i:   999] avg mini-batch loss: 0.673\n",
            "[epoch: 8, i:  1999] avg mini-batch loss: 0.675\n",
            "[epoch: 8, i:  2999] avg mini-batch loss: 0.665\n",
            "[epoch: 8, i:  3999] avg mini-batch loss: 0.620\n",
            "[epoch: 8, i:  4999] avg mini-batch loss: 0.685\n",
            "[epoch: 8, i:  5999] avg mini-batch loss: 0.674\n",
            "[epoch: 8, i:  6999] avg mini-batch loss: 0.660\n",
            "[epoch: 8, i:  7999] avg mini-batch loss: 0.682\n",
            "[epoch: 8, i:  8999] avg mini-batch loss: 0.701\n",
            "[epoch: 8, i:  9999] avg mini-batch loss: 0.641\n",
            "[epoch: 8, i: 10999] avg mini-batch loss: 0.686\n",
            "[epoch: 8, i: 11999] avg mini-batch loss: 0.660\n",
            "[epoch: 9, i:   999] avg mini-batch loss: 0.588\n",
            "[epoch: 9, i:  1999] avg mini-batch loss: 0.576\n",
            "[epoch: 9, i:  2999] avg mini-batch loss: 0.581\n",
            "[epoch: 9, i:  3999] avg mini-batch loss: 0.628\n",
            "[epoch: 9, i:  4999] avg mini-batch loss: 0.618\n",
            "[epoch: 9, i:  5999] avg mini-batch loss: 0.604\n",
            "[epoch: 9, i:  6999] avg mini-batch loss: 0.624\n",
            "[epoch: 9, i:  7999] avg mini-batch loss: 0.646\n",
            "[epoch: 9, i:  8999] avg mini-batch loss: 0.598\n",
            "[epoch: 9, i:  9999] avg mini-batch loss: 0.620\n",
            "[epoch: 9, i: 10999] avg mini-batch loss: 0.645\n",
            "[epoch: 9, i: 11999] avg mini-batch loss: 0.591\n",
            "Finished Training.\n"
          ]
        }
      ],
      "source": [
        "avg_losses = []   # Avg. losses.\n",
        "epochs = 10       # Total epochs.\n",
        "print_freq = 1000  # Print frequency.\n",
        "\n",
        "for epoch in range(epochs):  # Loop over the dataset multiple times.\n",
        "    running_loss = 0.0       # Initialize running loss.\n",
        "    for i, data in enumerate(trainloader, 0):\n",
        "        # Get the inputs.\n",
        "        inputs, labels = data\n",
        "\n",
        "        # Move the inputs to the specified device.\n",
        "        inputs, labels = inputs.to(device), labels.to(device)\n",
        "\n",
        "        # Zero the parameter gradients.\n",
        "        opt.zero_grad()\n",
        "\n",
        "        # Forward step.\n",
        "        outputs = net(inputs)\n",
        "        loss = loss_func(outputs, labels)\n",
        "\n",
        "        # Backward step.\n",
        "        loss.backward()\n",
        "\n",
        "        # Optimization step (update the parameters).\n",
        "        opt.step()\n",
        "\n",
        "        # Print statistics.\n",
        "        running_loss += loss.item()\n",
        "        if i % print_freq == print_freq - 1: # Print every several mini-batches.\n",
        "            avg_loss = running_loss / print_freq\n",
        "            print('[epoch: {}, i: {:5d}] avg mini-batch loss: {:.3f}'.format(\n",
        "                epoch, i, avg_loss))\n",
        "            avg_losses.append(avg_loss)\n",
        "            running_loss = 0.0\n",
        "\n",
        "print('Finished Training.')"
      ]
    },
    {
      "cell_type": "markdown",
      "metadata": {
        "id": "x8kDBtyeb5DW"
      },
      "source": [
        "#### Training Loss Curve"
      ]
    },
    {
      "cell_type": "code",
      "execution_count": null,
      "metadata": {
        "ExecuteTime": {
          "end_time": "2019-05-05T20:22:29.127185Z",
          "start_time": "2019-05-05T20:22:28.969956Z"
        },
        "id": "SQ4Z46pqb5DW",
        "colab": {
          "base_uri": "https://localhost:8080/",
          "height": 449
        },
        "outputId": "8cd7807f-e48b-4a2b-f052-41a5bdffe186"
      },
      "outputs": [
        {
          "output_type": "display_data",
          "data": {
            "text/plain": [
              "<Figure size 640x480 with 1 Axes>"
            ],
            "image/png": "[encoded data removed]"
          },
          "metadata": {}
        }
      ],
      "source": [
        "plt.plot(avg_losses)\n",
        "plt.xlabel('mini-batch index / {}'.format(print_freq))\n",
        "plt.ylabel('avg. mini-batch loss')\n",
        "plt.show()"
      ]
    },
    {
      "cell_type": "markdown",
      "metadata": {
        "id": "HGDWLQQfb5DW"
      },
      "source": [
        "#### Evaluate on Test Dataset"
      ]
    },
    {
      "cell_type": "code",
      "execution_count": null,
      "metadata": {
        "ExecuteTime": {
          "end_time": "2019-05-05T20:22:29.310170Z",
          "start_time": "2019-05-05T20:22:29.130022Z"
        },
        "id": "MR9VLjW7b5DW",
        "colab": {
          "base_uri": "https://localhost:8080/"
        },
        "outputId": "ed4be4b0-48f5-4731-8bea-1080791ea0b1"
      },
      "outputs": [
        {
          "output_type": "display_data",
          "data": {
            "text/plain": [
              "<Figure size 640x480 with 1 Axes>"
            ],
            "image/png": "[encoded data removed]"
          },
          "metadata": {}
        },
        {
          "output_type": "stream",
          "name": "stdout",
          "text": [
            "GroundTruth:    cat  ship  ship plane\n",
            "Predicted:    cat   car truck plane\n"
          ]
        }
      ],
      "source": [
        "# Check several images.\n",
        "dataiter = iter(testloader)\n",
        "images, labels = next(dataiter)\n",
        "imshow(torchvision.utils.make_grid(images))\n",
        "print('GroundTruth: ', ' '.join('%5s' % classes[labels[j]] for j in range(4)))\n",
        "outputs = net(images.to(device))\n",
        "_, predicted = torch.max(outputs, 1)\n",
        "\n",
        "print('Predicted: ', ' '.join('%5s' % classes[predicted[j]]\n",
        "                              for j in range(4)))"
      ]
    },
    {
      "cell_type": "code",
      "execution_count": null,
      "metadata": {
        "ExecuteTime": {
          "end_time": "2019-05-05T20:22:32.491868Z",
          "start_time": "2019-05-05T20:22:29.312667Z"
        },
        "id": "hCybLNlLb5DX",
        "colab": {
          "base_uri": "https://localhost:8080/"
        },
        "outputId": "4e7fef9f-39d5-4ac8-a957-9d4d4e39e376"
      },
      "outputs": [
        {
          "output_type": "stream",
          "name": "stdout",
          "text": [
            "Accuracy of the network on the 10000 test images: 73 %\n"
          ]
        }
      ],
      "source": [
        "# Get test accuracy.\n",
        "correct = 0\n",
        "total = 0\n",
        "with torch.no_grad():\n",
        "    for data in testloader:\n",
        "        images, labels = data\n",
        "        images, labels = images.to(device), labels.to(device)\n",
        "        outputs = net(images)\n",
        "        _, predicted = torch.max(outputs.data, 1)\n",
        "        total += labels.size(0)\n",
        "        correct += (predicted == labels).sum().item()\n",
        "\n",
        "print('Accuracy of the network on the 10000 test images: %d %%' % (\n",
        "    100 * correct / total))"
      ]
    },
    {
      "cell_type": "code",
      "execution_count": null,
      "metadata": {
        "ExecuteTime": {
          "end_time": "2019-05-05T20:27:33.876489Z",
          "start_time": "2019-05-05T20:27:30.065087Z"
        },
        "id": "MUQMsl_fb5DX",
        "colab": {
          "base_uri": "https://localhost:8080/"
        },
        "outputId": "7c1c44f2-f0fd-468b-cb99-3fe8360aeafa"
      },
      "outputs": [
        {
          "output_type": "stream",
          "name": "stdout",
          "text": [
            "Accuracy of plane : 82 %\n",
            "Accuracy of   car : 85 %\n",
            "Accuracy of  bird : 56 %\n",
            "Accuracy of   cat : 55 %\n",
            "Accuracy of  deer : 72 %\n",
            "Accuracy of   dog : 60 %\n",
            "Accuracy of  frog : 75 %\n",
            "Accuracy of horse : 79 %\n",
            "Accuracy of  ship : 79 %\n",
            "Accuracy of truck : 77 %\n"
          ]
        }
      ],
      "source": [
        "# Get test accuracy for each class.\n",
        "class_correct = list(0. for i in range(10))\n",
        "class_total = list(0. for i in range(10))\n",
        "with torch.no_grad():\n",
        "    for data in testloader:\n",
        "        images, labels = data\n",
        "        images, labels = images.to(device), labels.to(device)\n",
        "        outputs = net(images)\n",
        "        _, predicted = torch.max(outputs, 1)\n",
        "        c = (predicted == labels).squeeze()\n",
        "        for i in range(4):\n",
        "            label = labels[i]\n",
        "            class_correct[label] += c[i].item()\n",
        "            class_total[label] += 1\n",
        "\n",
        "for i in range(10):\n",
        "    print('Accuracy of %5s : %2d %%' % (\n",
        "        classes[i], 100 * class_correct[i] / class_total[i]))"
      ]
    },
    {
      "cell_type": "code",
      "execution_count": null,
      "metadata": {
        "id": "hjjQfShPb5DX"
      },
      "outputs": [],
      "source": []
    }
  ],
  "metadata": {
    "kernelspec": {
      "display_name": "Python 3",
      "name": "python3"
    },
    "language_info": {
      "codemirror_mode": {
        "name": "ipython",
        "version": 3
      },
      "file_extension": ".py",
      "mimetype": "text/x-python",
      "name": "python",
      "nbconvert_exporter": "python",
      "pygments_lexer": "ipython3",
      "version": "3.11.9"
    },
    "toc": {
      "base_numbering": 1,
      "nav_menu": {},
      "number_sections": true,
      "sideBar": true,
      "skip_h1_title": false,
      "title_cell": "Table of Contents",
      "title_sidebar": "Contents",
      "toc_cell": false,
      "toc_position": {},
      "toc_section_display": true,
      "toc_window_display": false
    },
    "colab": {
      "provenance": []
    }
  },
  "nbformat": 4,
  "nbformat_minor": 0
}